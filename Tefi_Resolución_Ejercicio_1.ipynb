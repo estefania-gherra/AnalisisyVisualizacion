{
  "nbformat": 4,
  "nbformat_minor": 0,
  "metadata": {
    "colab": {
      "name": "Tefi_Resolución Ejercicio 1.ipynb",
      "provenance": [],
      "authorship_tag": "ABX9TyOuvTiNjZajzaA3U+XivFdA",
      "include_colab_link": true
    },
    "kernelspec": {
      "name": "python3",
      "display_name": "Python 3"
    },
    "language_info": {
      "name": "python"
    }
  },
  "cells": [
    {
      "cell_type": "markdown",
      "metadata": {
        "id": "view-in-github",
        "colab_type": "text"
      },
      "source": [
        "<a href=\"https://colab.research.google.com/github/estefania-gherra/AnalisisyVisualizacion/blob/master/Tefi_Resoluci%C3%B3n_Ejercicio_1.ipynb\" target=\"_parent\"><img src=\"https://colab.research.google.com/assets/colab-badge.svg\" alt=\"Open In Colab\"/></a>"
      ]
    },
    {
      "cell_type": "markdown",
      "metadata": {
        "id": "s4KuOb_tn2zG"
      },
      "source": [
        "\n",
        "## Ejercicio\n",
        "\n",
        "Responder:\n",
        "\n",
        "**¿Si uno tiene más de 5 años de experiencia, la probabilidad de cobrar más que el promedio aumenta?**\n",
        "\n",
        "**¿Estos eventos, son independientes?**\n",
        "\n",
        "\n"
      ]
    },
    {
      "cell_type": "markdown",
      "metadata": {
        "id": "3RlC_IQg7OXy"
      },
      "source": [
        "## Respuestas:\n",
        "\n",
        "Para decir que \"la probabilidad de cobrar más que el promedio aumenta si uno tiene más de cinco años de experiencia\", hay que verificar:\n",
        "\n",
        "      P (A|B) > P (A)\n",
        "\n",
        "\n",
        "donde:\n",
        "\n",
        "      A = cobrar más que el promedio (A_is_above_avg)\n",
        "      B = contar con más de 5 años de experiencia (B_experience_greater_5)\n",
        "\n",
        "Para calcular P(A|B) recordar que:\n",
        "\n",
        " $$P(A|B) = \\frac{P(A \\cap B)}{P(B)}$$\n",
        "\n",
        "\n",
        "\n",
        "**Cálculos:**"
      ]
    },
    {
      "cell_type": "code",
      "metadata": {
        "id": "RLWcJebM-IAT"
      },
      "source": [
        "# 1- Importar librerías y cargar el dataset\n",
        "\n",
        "import io\n",
        "import matplotlib\n",
        "import matplotlib.pyplot as plt\n",
        "import numpy\n",
        "import pandas as pd\n",
        "import seaborn\n",
        "\n",
        "seaborn.set_context('talk')\n",
        "\n",
        "url = 'https://cs.famaf.unc.edu.ar/~mteruel/datasets/diplodatos/sysarmy_survey_2020_processed.csv'\n",
        "df = pd.read_csv(url)\n",
        "#df[:3]\n"
      ],
      "execution_count": null,
      "outputs": []
    },
    {
      "cell_type": "code",
      "metadata": {
        "id": "SpUMAqr7Kx-a"
      },
      "source": [
        "# 1.2- variable salario\n",
        "\n",
        "salary_col = 'salary_monthly_NETO'\n",
        "\n",
        "avg_salary = df[salary_col].mean()\n",
        "#avg_salary"
      ],
      "execution_count": null,
      "outputs": []
    },
    {
      "cell_type": "code",
      "metadata": {
        "id": "FVJw9XkoK_90"
      },
      "source": [
        "# 1.3- variable experiencia\n",
        "\n",
        "experience_col = 'profile_years_experience'\n"
      ],
      "execution_count": null,
      "outputs": []
    },
    {
      "cell_type": "code",
      "metadata": {
        "colab": {
          "base_uri": "https://localhost:8080/"
        },
        "id": "p0XtCIsW9jPO",
        "outputId": "e045acec-a3d5-4b72-fa4c-ae8569608670"
      },
      "source": [
        "# 2- Cálculo de probabilidades\n",
        "\n",
        "# 2.1-    P(A):\n",
        "\n",
        "A_is_above_avg = df[salary_col] > avg_salary\n",
        "#print (A_is_above_avg)\n",
        "\n",
        "prob_A = sum(A_is_above_avg)  /  len(df)\n",
        "prob_A\n",
        "\n"
      ],
      "execution_count": null,
      "outputs": [
        {
          "output_type": "execute_result",
          "data": {
            "text/plain": [
              "0.33125512715340444"
            ]
          },
          "metadata": {
            "tags": []
          },
          "execution_count": 116
        }
      ]
    },
    {
      "cell_type": "code",
      "metadata": {
        "colab": {
          "base_uri": "https://localhost:8080/"
        },
        "id": "wZy_-xdqJvxL",
        "outputId": "806ec816-27cd-4295-e70f-39b7c7e7e9c5"
      },
      "source": [
        "# 2.2-    P(B):\n",
        "\n",
        "B_experience_greater_5 = df[experience_col] > 5\n",
        "#print (B_experience_greater_5)\n",
        "\n",
        "prob_B = sum(B_experience_greater_5) / len(df)\n",
        "prob_B"
      ],
      "execution_count": null,
      "outputs": [
        {
          "output_type": "execute_result",
          "data": {
            "text/plain": [
              "0.5873666940114848"
            ]
          },
          "metadata": {
            "tags": []
          },
          "execution_count": 117
        }
      ]
    },
    {
      "cell_type": "code",
      "metadata": {
        "colab": {
          "base_uri": "https://localhost:8080/"
        },
        "id": "l5XPgOYAVzAn",
        "outputId": "780f2051-d5c2-4f44-c7bf-5d539dae9dde"
      },
      "source": [
        "# 2.3-    P(A ∩ B):\n",
        "\n",
        "A_intersec_B = df[A_is_above_avg  &  B_experience_greater_5]\n",
        "#A_intersec_B\n",
        "\n",
        "prob_A_intersec_B = len(A_intersec_B) / len(df)\n",
        "prob_A_intersec_B\n"
      ],
      "execution_count": null,
      "outputs": [
        {
          "output_type": "execute_result",
          "data": {
            "text/plain": [
              "0.26808859721082856"
            ]
          },
          "metadata": {
            "tags": []
          },
          "execution_count": 118
        }
      ]
    },
    {
      "cell_type": "code",
      "metadata": {
        "colab": {
          "base_uri": "https://localhost:8080/"
        },
        "id": "UFHvFC847bje",
        "outputId": "017c6df5-88ca-4d62-af93-0d37655fd66c"
      },
      "source": [
        "# 2.4- calcular P(A|B):\n",
        "\n",
        "prob_A_dado_B = prob_A_intersec_B / prob_B\n",
        "prob_A_dado_B"
      ],
      "execution_count": null,
      "outputs": [
        {
          "output_type": "execute_result",
          "data": {
            "text/plain": [
              "0.45642458100558664"
            ]
          },
          "metadata": {
            "tags": []
          },
          "execution_count": 110
        }
      ]
    },
    {
      "cell_type": "markdown",
      "metadata": {
        "id": "n0eUenbXZhQC"
      },
      "source": [
        "# **Conclusión:**\n",
        "\n",
        "Como\n",
        "\n",
        "**P (A|B) = 0.456  > P (A) = 0.331**\n",
        "\n",
        "entonces  \n",
        "\n",
        "**SÍ AUMENTA la probabilidad de cobrar más que el promedio, al tener más de cinco años de experiencia. Y por lo tanto los eventos NO SON INDEPENDIENTES.**\n",
        "\n",
        "\n",
        "\n",
        "Concluyo esto porque la independencia entre A y B se puede probar de dos formas:\n",
        "\n",
        "1) Si P(A|B) = P(A)  entonces A y B son independientes.\n",
        "\n",
        "Como vimos arriba que P(A|B) > P(A)  \n",
        "\n",
        "**entonces  A y B NO SON INDEPENDIENTES. Hay una relación entre A y B.** \n",
        "\n",
        "\n",
        "2) Si P(A∩B) = P(A)*P(B)   entonces A y B son independientes.\n",
        "\n",
        "0.268 ≠ 0.1945\n",
        "\n",
        "entonces A y B NO SON INDEPENDIENTES.\n",
        "\n",
        "Ver cálculos debajo:"
      ]
    },
    {
      "cell_type": "code",
      "metadata": {
        "colab": {
          "base_uri": "https://localhost:8080/"
        },
        "id": "kT5YIRevfIhM",
        "outputId": "a0e02774-2f22-4a23-b421-6b168dfb7e7e"
      },
      "source": [
        "prob_A_intersec_B"
      ],
      "execution_count": null,
      "outputs": [
        {
          "output_type": "execute_result",
          "data": {
            "text/plain": [
              "0.26808859721082856"
            ]
          },
          "metadata": {
            "tags": []
          },
          "execution_count": 112
        }
      ]
    },
    {
      "cell_type": "code",
      "metadata": {
        "colab": {
          "base_uri": "https://localhost:8080/"
        },
        "id": "ArBPafJ2fBWx",
        "outputId": "89bcc783-9dfb-48eb-fcac-7193307de7a7"
      },
      "source": [
        "prob_A*prob_B\n"
      ],
      "execution_count": null,
      "outputs": [
        {
          "output_type": "execute_result",
          "data": {
            "text/plain": [
              "0.1945682289104492"
            ]
          },
          "metadata": {
            "tags": []
          },
          "execution_count": 111
        }
      ]
    }
  ]
}