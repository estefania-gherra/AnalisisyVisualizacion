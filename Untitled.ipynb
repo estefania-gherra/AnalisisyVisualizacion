{
 "cells": [
  {
   "cell_type": "code",
   "execution_count": null,
   "id": "72d1ec5d-d2af-4905-810e-5b46120a30b8",
   "metadata": {},
   "outputs": [],
   "source": [
    "a = 2\n"
   ]
  },
  {
   "cell_type": "code",
   "execution_count": null,
   "id": "4e42e889-28b6-40d6-83fe-4ba7f152630f",
   "metadata": {},
   "outputs": [],
   "source": [
    "print(a)"
   ]
  },
  {
   "cell_type": "code",
   "execution_count": null,
   "id": "f3df134a-17a4-4e2d-8356-800811580400",
   "metadata": {},
   "outputs": [],
   "source": [
    "a"
   ]
  },
  {
   "cell_type": "code",
   "execution_count": null,
   "id": "8fe1f6bd-429f-47e7-8d2d-20ab0ae32e72",
   "metadata": {},
   "outputs": [],
   "source": []
  }
 ],
 "metadata": {
  "kernelspec": {
   "display_name": "",
   "name": ""
  },
  "language_info": {
   "name": ""
  }
 },
 "nbformat": 4,
 "nbformat_minor": 5
}
