{
  "nbformat": 4,
  "nbformat_minor": 0,
  "metadata": {
    "colab": {
      "name": "AyVd - Grupo Palas Atenea - Ejercicios .ipynb",
      "provenance": [],
      "toc_visible": true,
      "include_colab_link": true
    },
    "kernelspec": {
      "name": "python3",
      "display_name": "Python 3"
    },
    "language_info": {
      "name": "python"
    }
  },
  "cells": [
    {
      "cell_type": "markdown",
      "metadata": {
        "id": "view-in-github",
        "colab_type": "text"
      },
      "source": [
        "<a href=\"https://colab.research.google.com/github/estefania-gherra/AnalisisyVisualizacion/blob/master/AyVd_Grupo_Palas_Atenea_Ejercicios_.ipynb\" target=\"_parent\"><img src=\"https://colab.research.google.com/assets/colab-badge.svg\" alt=\"Open In Colab\"/></a>"
      ]
    },
    {
      "cell_type": "markdown",
      "metadata": {
        "id": "sXeveQZMNvq4"
      },
      "source": [
        "**Diplomatura en Ciencia de Datos, Aprendizaje Automático y sus Aplicaciones**\n",
        "\n",
        "**Edición 2021**\n",
        "\n",
        "**Integrantes Grupo 'Palas Atenea'**\n",
        "* Bosch Daniela\n",
        "* Gómez Federico?\n",
        "* Guerra C Estefanía Inés\n",
        "* Iberra Yanina Vanesa\n",
        "* Mantovani Luciano\n",
        "* Palacio Pastor Natalí\n"
      ]
    },
    {
      "cell_type": "markdown",
      "metadata": {
        "id": "1dzkq8GGN5Yd"
      },
      "source": [
        "# Brief\n",
        "\n",
        "\n",
        "1. Importación de Librerías\n",
        "2. Lectura del Dataset\n",
        "3. Ejercicio 1\n",
        "4. Ejercicio 2\n",
        "5. Ejercicio 3\n",
        "\n"
      ]
    },
    {
      "cell_type": "markdown",
      "metadata": {
        "id": "A1D-oZ6VOU9T"
      },
      "source": [
        "# Importación de librerías"
      ]
    },
    {
      "cell_type": "code",
      "metadata": {
        "id": "Pdv41VmMNVC4"
      },
      "source": [
        "import io\n",
        "import matplotlib\n",
        "import matplotlib.pyplot as plt\n",
        "import numpy\n",
        "import pandas as pd\n",
        "import seaborn\n",
        "\n",
        "seaborn.set_context('talk')"
      ],
      "execution_count": null,
      "outputs": []
    },
    {
      "cell_type": "markdown",
      "metadata": {
        "id": "7tKi1bmAObW9"
      },
      "source": [
        "# Lectura del dataset"
      ]
    },
    {
      "cell_type": "code",
      "metadata": {
        "colab": {
          "base_uri": "https://localhost:8080/",
          "height": 302
        },
        "id": "LEqlTqStOhRg",
        "outputId": "b0692132-4bdb-4969-f8ab-b4607d30ef55"
      },
      "source": [
        "url = 'https://cs.famaf.unc.edu.ar/~mteruel/datasets/diplodatos/sysarmy_survey_2020_processed.csv'\n",
        "df = pd.read_csv(url)\n",
        "df[:3]"
      ],
      "execution_count": null,
      "outputs": [
        {
          "output_type": "execute_result",
          "data": {
            "text/html": [
              "<div>\n",
              "<style scoped>\n",
              "    .dataframe tbody tr th:only-of-type {\n",
              "        vertical-align: middle;\n",
              "    }\n",
              "\n",
              "    .dataframe tbody tr th {\n",
              "        vertical-align: top;\n",
              "    }\n",
              "\n",
              "    .dataframe thead th {\n",
              "        text-align: right;\n",
              "    }\n",
              "</style>\n",
              "<table border=\"1\" class=\"dataframe\">\n",
              "  <thead>\n",
              "    <tr style=\"text-align: right;\">\n",
              "      <th></th>\n",
              "      <th>profile_gender</th>\n",
              "      <th>profile_age</th>\n",
              "      <th>work_country</th>\n",
              "      <th>work_province</th>\n",
              "      <th>profile_years_experience</th>\n",
              "      <th>work_years_in_company</th>\n",
              "      <th>work_years_in_current_position</th>\n",
              "      <th>work_people_in_charge_of</th>\n",
              "      <th>profile_studies_level</th>\n",
              "      <th>profile_studies_level_state</th>\n",
              "      <th>profile_career</th>\n",
              "      <th>profile_university</th>\n",
              "      <th>profile_specialization_courses</th>\n",
              "      <th>profile_open_source_contributions</th>\n",
              "      <th>profile_programming_as_hobby</th>\n",
              "      <th>work_role</th>\n",
              "      <th>tools_platform</th>\n",
              "      <th>tools_programming_languages</th>\n",
              "      <th>tools_frameworks</th>\n",
              "      <th>tools_data_bases</th>\n",
              "      <th>tools_qa_testing</th>\n",
              "      <th>tools_IDEs</th>\n",
              "      <th>tools_work_pc_os</th>\n",
              "      <th>tools_cellphone_os</th>\n",
              "      <th>work_on_call_duty</th>\n",
              "      <th>salary_on_call_duty_charge</th>\n",
              "      <th>work_on_call_duty_charge_type</th>\n",
              "      <th>work_contract_type</th>\n",
              "      <th>salary_monthly_BRUTO</th>\n",
              "      <th>salary_monthly_NETO</th>\n",
              "      <th>salary_in_usd</th>\n",
              "      <th>salary_satisfaction</th>\n",
              "      <th>salary_comparison_last_semester</th>\n",
              "      <th>salary_has_bonus</th>\n",
              "      <th>salary_bonus_tied_to</th>\n",
              "      <th>salary_inflation_adjustment_2020</th>\n",
              "      <th>salary_percentage_inflation_adjustment_2020</th>\n",
              "      <th>salary_month_last_inflation_adjustment</th>\n",
              "      <th>work_has_violence_situations</th>\n",
              "      <th>profile_sexual_orientation</th>\n",
              "      <th>profile_has_disabilities</th>\n",
              "      <th>profile_has_disabilities_hiring_difficulties</th>\n",
              "      <th>company_employee_number</th>\n",
              "      <th>company_main_activity</th>\n",
              "      <th>company_recommended</th>\n",
              "      <th>company_diversity_policies</th>\n",
              "      <th>company_extra_benefits</th>\n",
              "      <th>company_best_companies_city</th>\n",
              "    </tr>\n",
              "  </thead>\n",
              "  <tbody>\n",
              "    <tr>\n",
              "      <th>0</th>\n",
              "      <td>Mujer</td>\n",
              "      <td>26</td>\n",
              "      <td>Argentina</td>\n",
              "      <td>Ciudad Autónoma de Buenos Aires</td>\n",
              "      <td>3.0</td>\n",
              "      <td>3.0</td>\n",
              "      <td>3.0</td>\n",
              "      <td>0</td>\n",
              "      <td>Universitario</td>\n",
              "      <td>En curso</td>\n",
              "      <td>Ingeniería en Sistemas de Información</td>\n",
              "      <td>UTN - Universidad Tecnológica Nacional</td>\n",
              "      <td>Sí, los pagó un empleador</td>\n",
              "      <td>No</td>\n",
              "      <td>Sí</td>\n",
              "      <td>Consultant</td>\n",
              "      <td>Ninguna</td>\n",
              "      <td>Ninguno</td>\n",
              "      <td>Ninguno</td>\n",
              "      <td>Ninguna</td>\n",
              "      <td>Ninguna</td>\n",
              "      <td>Ninguno</td>\n",
              "      <td>GNU/Linux</td>\n",
              "      <td>Android</td>\n",
              "      <td>No</td>\n",
              "      <td>0.0</td>\n",
              "      <td>Bruto</td>\n",
              "      <td>Full-Time</td>\n",
              "      <td>53000.0</td>\n",
              "      <td>43000.0</td>\n",
              "      <td>NaN</td>\n",
              "      <td>1</td>\n",
              "      <td>1</td>\n",
              "      <td>No</td>\n",
              "      <td>No recibo bono</td>\n",
              "      <td>No</td>\n",
              "      <td>0.0</td>\n",
              "      <td>0</td>\n",
              "      <td>En mi trabajo actual</td>\n",
              "      <td>Homosexual</td>\n",
              "      <td>NaN</td>\n",
              "      <td>NaN</td>\n",
              "      <td>501-1000</td>\n",
              "      <td>Servicios / Consultoría de Software / Digital</td>\n",
              "      <td>7</td>\n",
              "      <td>2</td>\n",
              "      <td>Capacitaciones y/o cursos, Comidas pagas / sub...</td>\n",
              "      <td>NaN</td>\n",
              "    </tr>\n",
              "    <tr>\n",
              "      <th>1</th>\n",
              "      <td>Hombre</td>\n",
              "      <td>29</td>\n",
              "      <td>Argentina</td>\n",
              "      <td>Corrientes</td>\n",
              "      <td>5.0</td>\n",
              "      <td>2.0</td>\n",
              "      <td>2.0</td>\n",
              "      <td>4</td>\n",
              "      <td>Universitario</td>\n",
              "      <td>En curso</td>\n",
              "      <td>Ingeniería en Sistemas de Información</td>\n",
              "      <td>UTN - Universidad Tecnológica Nacional</td>\n",
              "      <td>Sí, de forma particular, Sí, los pagó un emple...</td>\n",
              "      <td>No</td>\n",
              "      <td>Sí</td>\n",
              "      <td>Developer</td>\n",
              "      <td>Docker, Google Cloud Platform/App Engine</td>\n",
              "      <td>HTML, Javascript, Python</td>\n",
              "      <td>Django, jQuery</td>\n",
              "      <td>Informix, MySQL, PostgreSQL</td>\n",
              "      <td>Ninguna</td>\n",
              "      <td>IPython / Jupyter, Sublime Text, Visual Studio...</td>\n",
              "      <td>GNU/Linux</td>\n",
              "      <td>Android</td>\n",
              "      <td>No</td>\n",
              "      <td>0.0</td>\n",
              "      <td>Bruto</td>\n",
              "      <td>Full-Time</td>\n",
              "      <td>79000.0</td>\n",
              "      <td>63000.0</td>\n",
              "      <td>NaN</td>\n",
              "      <td>2</td>\n",
              "      <td>2</td>\n",
              "      <td>Menos de un sueldo</td>\n",
              "      <td>Performance de la compañía</td>\n",
              "      <td>Uno</td>\n",
              "      <td>10.0</td>\n",
              "      <td>1</td>\n",
              "      <td>Jamás</td>\n",
              "      <td>Heterosexual</td>\n",
              "      <td>Visual</td>\n",
              "      <td>No</td>\n",
              "      <td>201-500</td>\n",
              "      <td>Otras industrias</td>\n",
              "      <td>8</td>\n",
              "      <td>9</td>\n",
              "      <td>Horarios flexibles, Stock options / RSUs, Viát...</td>\n",
              "      <td>NaN</td>\n",
              "    </tr>\n",
              "    <tr>\n",
              "      <th>2</th>\n",
              "      <td>Mujer</td>\n",
              "      <td>22</td>\n",
              "      <td>Argentina</td>\n",
              "      <td>Ciudad Autónoma de Buenos Aires</td>\n",
              "      <td>2.0</td>\n",
              "      <td>0.0</td>\n",
              "      <td>0.0</td>\n",
              "      <td>0</td>\n",
              "      <td>Secundario</td>\n",
              "      <td>Completado</td>\n",
              "      <td>NaN</td>\n",
              "      <td>NaN</td>\n",
              "      <td>Sí, de forma particular, Sí, los pagó un emple...</td>\n",
              "      <td>No</td>\n",
              "      <td>Sí</td>\n",
              "      <td>Infosec</td>\n",
              "      <td>Linux, VMWare</td>\n",
              "      <td>Ninguno</td>\n",
              "      <td>Ninguno</td>\n",
              "      <td>Ninguna</td>\n",
              "      <td>Ninguna</td>\n",
              "      <td>Ninguno</td>\n",
              "      <td>Windows</td>\n",
              "      <td>iOS</td>\n",
              "      <td>No</td>\n",
              "      <td>0.0</td>\n",
              "      <td>Porcentaje de mi sueldo</td>\n",
              "      <td>Full-Time</td>\n",
              "      <td>160000.0</td>\n",
              "      <td>127000.0</td>\n",
              "      <td>NaN</td>\n",
              "      <td>3</td>\n",
              "      <td>3</td>\n",
              "      <td>Un sueldo</td>\n",
              "      <td>Performance individual</td>\n",
              "      <td>No</td>\n",
              "      <td>0.0</td>\n",
              "      <td>0</td>\n",
              "      <td>En un trabajo anterior</td>\n",
              "      <td>Bisexual o queer</td>\n",
              "      <td>NaN</td>\n",
              "      <td>No</td>\n",
              "      <td>2001-5000</td>\n",
              "      <td>Otras industrias</td>\n",
              "      <td>6</td>\n",
              "      <td>9</td>\n",
              "      <td>Clases de gimnasia online, Comidas pagas / sub...</td>\n",
              "      <td>NaN</td>\n",
              "    </tr>\n",
              "  </tbody>\n",
              "</table>\n",
              "</div>"
            ],
            "text/plain": [
              "  profile_gender  ...  company_best_companies_city\n",
              "0          Mujer  ...                          NaN\n",
              "1         Hombre  ...                          NaN\n",
              "2          Mujer  ...                          NaN\n",
              "\n",
              "[3 rows x 48 columns]"
            ]
          },
          "metadata": {
            "tags": []
          },
          "execution_count": 2
        }
      ]
    },
    {
      "cell_type": "markdown",
      "metadata": {
        "id": "UXTNm5uKPBWX"
      },
      "source": [
        "## **Ejercicio 1**\n",
        "\n",
        "Reponder: **¿Si uno tiene más de 5 años de experiencia, la probabilidad de cobrar más que el promedio aumenta? ¿Estos eventos, son independientes?**\n"
      ]
    },
    {
      "cell_type": "markdown",
      "metadata": {
        "id": "d2YBY1S8PJGv"
      },
      "source": [
        "#### **Hipótesis**\n",
        "\n",
        "1.   Tener más años de experiencia significa que se cobra más.\n",
        "2.   Los siguientes eventos NO son independientes:\n",
        "  \n",
        "  A = {personas que cobran más que el promedio} = {ωi : salary_monthly_NETO > avg(salary_monthly_NETO) }<br>\n",
        "  B = {personas con más de 5 años de experiencia} = {ωi : profile_years_experience > 5 }"
      ]
    },
    {
      "cell_type": "markdown",
      "metadata": {
        "id": "_oSAGn7jPYz1"
      },
      "source": [
        "### **Identificar las variables**\n",
        "\n",
        "1.   Para los años de experiencia usaremos la variable 'profile_years_experience'.\n",
        "\n",
        "2.   Para el salario usaremos el salario Neto, ingresado en la variable 'salary_monthly_NETO'.\n",
        "\n",
        "\n",
        "*   **Asunción**: cada una de nuestros eventos es independiente e idénticamente distribuido, es decir, que P({ωi}) = 1/k.\n",
        "\n"
      ]
    },
    {
      "cell_type": "markdown",
      "metadata": {
        "id": "N3-E-mcbPlOn"
      },
      "source": [
        "### **Análisis de hipótesis 1**\n",
        "Tener más años de experiencia significa que se cobra más."
      ]
    },
    {
      "cell_type": "code",
      "metadata": {
        "colab": {
          "base_uri": "https://localhost:8080/"
        },
        "id": "c1PAxNs8Qpjv",
        "outputId": "5e6ef54e-38f6-485d-dfb0-23a3b8056c35"
      },
      "source": [
        "salary_col = 'salary_monthly_NETO'\n",
        "avg_salary = df[salary_col].mean()\n",
        "avg_salary"
      ],
      "execution_count": null,
      "outputs": [
        {
          "output_type": "execute_result",
          "data": {
            "text/plain": [
              "94907.9491018188"
            ]
          },
          "metadata": {
            "tags": []
          },
          "execution_count": 3
        }
      ]
    },
    {
      "cell_type": "code",
      "metadata": {
        "colab": {
          "base_uri": "https://localhost:8080/"
        },
        "id": "lqO5eKHZPRPi",
        "outputId": "b6d4d4db-4617-4335-a42d-5750ab448372"
      },
      "source": [
        "is_above_avg = df[salary_col] > avg_salary # A: serie con tru/efalse si el salario supera o no la media del salario\n",
        "#print(is_above_avg)\n",
        "experience_greater_5 = df.profile_years_experience > 5 # B: serie con true/false si tiene o no más de 5 años de experiencia\n",
        "#print(experience_greater_5)\n",
        "intersection_count = len(df[is_above_avg & experience_greater_5])\n",
        "intersection_count # A intersección B"
      ],
      "execution_count": null,
      "outputs": [
        {
          "output_type": "execute_result",
          "data": {
            "text/plain": [
              "1634"
            ]
          },
          "metadata": {
            "tags": []
          },
          "execution_count": 4
        }
      ]
    },
    {
      "cell_type": "code",
      "metadata": {
        "colab": {
          "base_uri": "https://localhost:8080/"
        },
        "id": "gInRWbxoPXso",
        "outputId": "313997c4-e5f9-4d95-ed75-11eca698d6f0"
      },
      "source": [
        "# Probabilidad del evento A\n",
        "p_a = len(df[is_above_avg]) / len(df) # p(A)\n",
        "p_a"
      ],
      "execution_count": null,
      "outputs": [
        {
          "output_type": "execute_result",
          "data": {
            "text/plain": [
              "0.33125512715340444"
            ]
          },
          "metadata": {
            "tags": []
          },
          "execution_count": 5
        }
      ]
    },
    {
      "cell_type": "code",
      "metadata": {
        "colab": {
          "base_uri": "https://localhost:8080/"
        },
        "id": "oxKyGL5fP3Ix",
        "outputId": "34c6a88c-7a33-41a9-a254-5f0cdc11c592"
      },
      "source": [
        "# Probabilidad del evento B\n",
        "p_b = len(df[experience_greater_5]) / len(df) # p(B)\n",
        "p_b"
      ],
      "execution_count": null,
      "outputs": [
        {
          "output_type": "execute_result",
          "data": {
            "text/plain": [
              "0.5873666940114848"
            ]
          },
          "metadata": {
            "tags": []
          },
          "execution_count": 6
        }
      ]
    },
    {
      "cell_type": "code",
      "metadata": {
        "colab": {
          "base_uri": "https://localhost:8080/"
        },
        "id": "aFFT_UCOP2-g",
        "outputId": "c89a7d23-c415-4ea6-ed36-f221e12ea642"
      },
      "source": [
        "# Probabilidad conjunta: probabilidad de que una persona cobre más que el promedio y que tenga más de 5 años de experiencia.\n",
        "p_conj = intersection_count / len(df) # p(A int B)\n",
        "p_conj"
      ],
      "execution_count": null,
      "outputs": [
        {
          "output_type": "execute_result",
          "data": {
            "text/plain": [
              "0.26808859721082856"
            ]
          },
          "metadata": {
            "tags": []
          },
          "execution_count": 7
        }
      ]
    },
    {
      "cell_type": "code",
      "metadata": {
        "colab": {
          "base_uri": "https://localhost:8080/"
        },
        "id": "yFcPWznrP215",
        "outputId": "dbeda167-b967-43fd-8c82-b238bd0a49c9"
      },
      "source": [
        "# Probabilidad condicional de que el salario esté por encima del promedio, \n",
        "# suponiendo que ocurre el evento de tener más de 5 años de experiencia, se calcula como:\n",
        "# p(A|B) = p(A int B) / p(B) con p(B) != 0\n",
        "p_cond = p_conj / p_b # p(A cond B)\n",
        "p_cond"
      ],
      "execution_count": null,
      "outputs": [
        {
          "output_type": "execute_result",
          "data": {
            "text/plain": [
              "0.45642458100558664"
            ]
          },
          "metadata": {
            "tags": []
          },
          "execution_count": 8
        }
      ]
    },
    {
      "cell_type": "markdown",
      "metadata": {
        "id": "kCN_4kjRQA4o"
      },
      "source": [
        "**Conclusión**:\n",
        "\n",
        "Compararamos éste valor de probabilidad condicional con p(a). Como p_cond > p_a (0.45 > 0.33), entonces la hipótesis I es verdadera. \n"
      ]
    },
    {
      "cell_type": "markdown",
      "metadata": {
        "id": "ggNb4_ElQ-w9"
      },
      "source": [
        "### **Análisis de hipótesis 2**\n",
        "Los eventos A y B NO son independientes.\n",
        "\n",
        "A y B se dicen conjuntos independientes si:\n",
        "\n",
        "p(A int B) = p(A)*p(B)"
      ]
    },
    {
      "cell_type": "code",
      "metadata": {
        "colab": {
          "base_uri": "https://localhost:8080/"
        },
        "id": "3WagUZgNP2r0",
        "outputId": "926ec7e4-d435-4847-d154-8d47facbdcd2"
      },
      "source": [
        "p_a_por_p_b = p_a * p_b  # p(A) * p(B)\n",
        "p_a_por_p_b"
      ],
      "execution_count": null,
      "outputs": [
        {
          "output_type": "execute_result",
          "data": {
            "text/plain": [
              "0.1945682289104492"
            ]
          },
          "metadata": {
            "tags": []
          },
          "execution_count": 9
        }
      ]
    },
    {
      "cell_type": "markdown",
      "metadata": {
        "id": "hM1pwb62RMKz"
      },
      "source": [
        "**Conclusión**:\n",
        "\n",
        "La probabilidad de la intersección es 0.26, pero p(A)*p(B) = 0.19, por lo tanto, al ser valores diferentes NO son eventos independientes."
      ]
    },
    {
      "cell_type": "markdown",
      "metadata": {
        "id": "ThhG94H-SQyt"
      },
      "source": [
        ""
      ]
    },
    {
      "cell_type": "markdown",
      "metadata": {
        "id": "0IZ7vLJESq7G"
      },
      "source": [
        "## **Ejercicio 2**\n",
        "\n",
        "Responder: **¿Cómo afecta el nivel de estudios en el salario de los programadores en Argentina?**"
      ]
    },
    {
      "cell_type": "markdown",
      "metadata": {
        "id": "K4Efha18SzE6"
      },
      "source": [
        "#### **Hipótesis**\n",
        "1. El nivel de estudio de los programadores afecta su salario de forma positiva. (i.e: Tener más nivel de estudio significa que se cobra más.)\n",
        "\n",
        "2. Los siguientes eventos NO son independientes:\n",
        "  \n",
        "  A = {personas que cobran más que el promedio} = {ωi : salary_monthly_NETO > avg(salary_monthly_NETO) }<br>\n",
        "  B = {personas con nivel de estudio igual o superior a Universitario} = {ωi : profile_studies_level in ['Universitario', 'Posgrado', 'Doctorado', 'Posdoctorado']}"
      ]
    },
    {
      "cell_type": "markdown",
      "metadata": {
        "id": "99DbiBE2TeHF"
      },
      "source": [
        "### **Identificar las variables**\n",
        "\n",
        "1.   Para el nivel de estudio usaremos la variable categórica ordinal 'profile_studies_level' y veremos si tiene impacto el estado del nivel de estudio informado en la variable 'profile_studies_level_state'.\n",
        "\n",
        "2.   Para el salario usaremos el salario Neto, ingresado en la variable 'salary_monthly_NETO'.\n",
        "\n",
        "\n",
        "*   **Asunción**: cada una de nuestros eventos es independiente e idénticamente distribuido, es decir, que P({ωi}) = 1/k."
      ]
    },
    {
      "cell_type": "markdown",
      "metadata": {
        "id": "zZyf58C5TwPF"
      },
      "source": [
        "#### **Manejo de valores faltantes en las variables de interés**"
      ]
    },
    {
      "cell_type": "code",
      "metadata": {
        "colab": {
          "base_uri": "https://localhost:8080/"
        },
        "id": "6zYTx5sFP2ht",
        "outputId": "1f49236f-b046-41da-f634-837c782a50bd"
      },
      "source": [
        "# Verificamos si hay valores faltantes en las variables de interés.\n",
        "percent_of_null_values = df[\n",
        "                            [\"profile_studies_level\", \"profile_studies_level_state\", \"salary_monthly_NETO\", \"salary_monthly_BRUTO\"]\n",
        "                            ].isnull().sum() / len(df)*100\n",
        "percent_of_null_values # son 212 filas de 6095."
      ],
      "execution_count": null,
      "outputs": [
        {
          "output_type": "execute_result",
          "data": {
            "text/plain": [
              "profile_studies_level          0.000000\n",
              "profile_studies_level_state    0.000000\n",
              "salary_monthly_NETO            3.478261\n",
              "salary_monthly_BRUTO           0.000000\n",
              "dtype: float64"
            ]
          },
          "metadata": {
            "tags": []
          },
          "execution_count": 10
        }
      ]
    },
    {
      "cell_type": "code",
      "metadata": {
        "colab": {
          "base_uri": "https://localhost:8080/"
        },
        "id": "GgE5KOcEUA3c",
        "outputId": "5516dc52-f5b4-49de-d9b1-0db573db01d6"
      },
      "source": [
        "df.drop(df[df[salary_col].isnull()].index, inplace = True)\n",
        "df.reset_index(drop=True, inplace=True)\n",
        "df.shape"
      ],
      "execution_count": null,
      "outputs": [
        {
          "output_type": "execute_result",
          "data": {
            "text/plain": [
              "(5883, 48)"
            ]
          },
          "metadata": {
            "tags": []
          },
          "execution_count": 11
        }
      ]
    },
    {
      "cell_type": "markdown",
      "metadata": {
        "id": "h2DqLAE_URd2"
      },
      "source": [
        "#### **Manejo de outliers en las variables de interés**"
      ]
    },
    {
      "cell_type": "code",
      "metadata": {
        "colab": {
          "base_uri": "https://localhost:8080/",
          "height": 301
        },
        "id": "D0TbhEY9Uc1H",
        "outputId": "49594096-3a19-40ca-d7bb-e6217af116e1"
      },
      "source": [
        "plt.figure(figsize=(12, 4))\n",
        "seaborn.boxenplot(x=df[salary_col])\n",
        "seaborn.despine()\n",
        "plt.ticklabel_format(style='plain', axis='x')"
      ],
      "execution_count": null,
      "outputs": [
        {
          "output_type": "display_data",
          "data": {
            "image/png": "[encoded data removed]",
            "text/plain": [
              "<Figure size 864x288 with 1 Axes>"
            ]
          },
          "metadata": {
            "tags": [],
            "needs_background": "light"
          }
        }
      ]
    },
    {
      "cell_type": "markdown",
      "metadata": {
        "id": "WmduIR3EUsMV"
      },
      "source": [
        "Eliminamos outliers con la función 'clean_outliers'."
      ]
    },
    {
      "cell_type": "code",
      "metadata": {
        "id": "5ERHFPBzU2fm"
      },
      "source": [
        "def clean_outliers(dataset, column_name):\n",
        "    \"\"\"Returns dataset removing the outlier rows from column @column_name.\"\"\"\n",
        "    interesting_col = dataset[column_name]\n",
        "    # Here we can remove the outliers from both ends, or even add more restrictions.\n",
        "    mask_outlier = (\n",
        "        numpy.abs(interesting_col - interesting_col.mean()) <= (2.5 * interesting_col.std()))\n",
        "    return dataset[mask_outlier]"
      ],
      "execution_count": null,
      "outputs": []
    },
    {
      "cell_type": "code",
      "metadata": {
        "colab": {
          "base_uri": "https://localhost:8080/",
          "height": 301
        },
        "id": "MrwIYuNzUhuS",
        "outputId": "418174b2-d2af-4662-cd7d-e8197f3cfa43"
      },
      "source": [
        "data = clean_outliers(df, salary_col)\n",
        "data.reset_index(drop=True, inplace=True)\n",
        "plt.figure(figsize=(12, 4))\n",
        "seaborn.boxenplot(x=data[salary_col]) # usamos el dataframe devuelto por la función clean_outliers, filtrado en la columna de salario Neto\n",
        "seaborn.despine()\n",
        "plt.ticklabel_format(style='plain', axis='x')"
      ],
      "execution_count": null,
      "outputs": [
        {
          "output_type": "display_data",
          "data": {
            "image/png": "[encoded data removed]",
            "text/plain": [
              "<Figure size 864x288 with 1 Axes>"
            ]
          },
          "metadata": {
            "tags": [],
            "needs_background": "light"
          }
        }
      ]
    },
    {
      "cell_type": "code",
      "metadata": {
        "colab": {
          "base_uri": "https://localhost:8080/"
        },
        "id": "45owZDvLVGLS",
        "outputId": "4893e29c-2a18-41cd-c6c9-e9eaf812391c"
      },
      "source": [
        "data[salary_col].describe()"
      ],
      "execution_count": null,
      "outputs": [
        {
          "output_type": "execute_result",
          "data": {
            "text/plain": [
              "count      5741.000000\n",
              "mean      83627.618458\n",
              "std       50278.152420\n",
              "min           1.000000\n",
              "25%       50400.000000\n",
              "50%       75900.000000\n",
              "75%      104000.000000\n",
              "max      332100.000000\n",
              "Name: salary_monthly_NETO, dtype: float64"
            ]
          },
          "metadata": {
            "tags": []
          },
          "execution_count": 15
        }
      ]
    },
    {
      "cell_type": "markdown",
      "metadata": {
        "id": "dKRgfvPUVR-P"
      },
      "source": [
        "Vemos que existe como mínimo el valor 1.0. Tratemos de eliminar esos outliers."
      ]
    },
    {
      "cell_type": "code",
      "metadata": {
        "id": "aR5CE8qUVLty"
      },
      "source": [
        "data = data[data[salary_col]>10000]\n",
        "data.reset_index(drop=True, inplace=True)"
      ],
      "execution_count": null,
      "outputs": []
    },
    {
      "cell_type": "markdown",
      "metadata": {
        "id": "6KHW8CtrVhS4"
      },
      "source": [
        "De aquí en adelante trabajaremos con el dataframe 'data', que no contiene filas con valores faltantes en la variable 'salary_monthly_NETO', y han sido eliminados los outliers de esa misma variable."
      ]
    },
    {
      "cell_type": "markdown",
      "metadata": {
        "id": "dNzeuBdO0nQe"
      },
      "source": [
        "### **Análisis de hipótesis 1**\n",
        "Tener más nivel de estudio significa que se cobra más"
      ]
    },
    {
      "cell_type": "code",
      "metadata": {
        "colab": {
          "base_uri": "https://localhost:8080/"
        },
        "id": "HZugD5Lk1dZk",
        "outputId": "4313480a-110a-4d54-ac7b-7482daf53054"
      },
      "source": [
        "avg_salary = data[salary_col].mean()\n",
        "avg_salary"
      ],
      "execution_count": null,
      "outputs": [
        {
          "output_type": "execute_result",
          "data": {
            "text/plain": [
              "86676.45941845766"
            ]
          },
          "metadata": {
            "tags": []
          },
          "execution_count": 17
        }
      ]
    },
    {
      "cell_type": "code",
      "metadata": {
        "colab": {
          "base_uri": "https://localhost:8080/"
        },
        "id": "1yaBQxHj1dSR",
        "outputId": "40de16e5-2415-4726-97a3-3c185c498632"
      },
      "source": [
        "is_above_avg = data[salary_col] > avg_salary # A: serie con tru/efalse si el salario supera o no la media del salario\n",
        "#print(is_above_avg)\n",
        "profile_studies_level_greater_univ = data.profile_studies_level.isin(['Universitario', 'Posgrado', 'Doctorado', 'Posdoctorado']) # B: serie con true/false si tiene o no más de 5 años de experiencia\n",
        "#print(profile_studies_level_greater_univ)\n",
        "intersection_count = len(data[is_above_avg & profile_studies_level_greater_univ])\n",
        "intersection_count # A intersección B"
      ],
      "execution_count": null,
      "outputs": [
        {
          "output_type": "execute_result",
          "data": {
            "text/plain": [
              "1806"
            ]
          },
          "metadata": {
            "tags": []
          },
          "execution_count": 18
        }
      ]
    },
    {
      "cell_type": "code",
      "metadata": {
        "colab": {
          "base_uri": "https://localhost:8080/"
        },
        "id": "ibSmRVgG1iMr",
        "outputId": "8cddee22-ae0b-4158-d092-16ae08524041"
      },
      "source": [
        "# Probabilidad del evento A\n",
        "p_a = len(data[is_above_avg]) / len(data) # p(A)\n",
        "p_a"
      ],
      "execution_count": null,
      "outputs": [
        {
          "output_type": "execute_result",
          "data": {
            "text/plain": [
              "0.40744085244717354"
            ]
          },
          "metadata": {
            "tags": []
          },
          "execution_count": 19
        }
      ]
    },
    {
      "cell_type": "code",
      "metadata": {
        "colab": {
          "base_uri": "https://localhost:8080/"
        },
        "id": "9GG0Ka1Q1iFu",
        "outputId": "ecf03b44-9c3a-46ce-e94b-a8c76bd14e5d"
      },
      "source": [
        "# Probabilidad del evento B\n",
        "p_b = len(data[profile_studies_level_greater_univ]) / len(data) # p(B)\n",
        "p_b"
      ],
      "execution_count": null,
      "outputs": [
        {
          "output_type": "execute_result",
          "data": {
            "text/plain": [
              "0.7374029257720788"
            ]
          },
          "metadata": {
            "tags": []
          },
          "execution_count": 20
        }
      ]
    },
    {
      "cell_type": "code",
      "metadata": {
        "colab": {
          "base_uri": "https://localhost:8080/"
        },
        "id": "hzmQn6T81h86",
        "outputId": "bce50dea-37c1-4102-c2fd-e8a6f147f078"
      },
      "source": [
        "# Probabilidad conjunta: probabilidad de que una persona cobre más que el promedio y que tenga un nivel de estudio igual o mayor a universitario.\n",
        "p_conj = intersection_count / len(data) # p(A int B)\n",
        "p_conj"
      ],
      "execution_count": null,
      "outputs": [
        {
          "output_type": "execute_result",
          "data": {
            "text/plain": [
              "0.32616940581542353"
            ]
          },
          "metadata": {
            "tags": []
          },
          "execution_count": 21
        }
      ]
    },
    {
      "cell_type": "code",
      "metadata": {
        "colab": {
          "base_uri": "https://localhost:8080/"
        },
        "id": "9UIWWFql1plz",
        "outputId": "cc05bfb3-a8b2-4695-a42d-dec56d96935d"
      },
      "source": [
        "# Probabilidad condicional de que el salario esté por encima del promedio, \n",
        "# suponiendo que ocurre el evento de tener un nivel de estudio igual o mayor a universitario, se calcula como:\n",
        "# p(A|B) = p(A int B) / p(B) con p(B) != 0\n",
        "p_cond = p_conj / p_b # p(A cond B)\n",
        "p_cond"
      ],
      "execution_count": null,
      "outputs": [
        {
          "output_type": "execute_result",
          "data": {
            "text/plain": [
              "0.4423218221895665"
            ]
          },
          "metadata": {
            "tags": []
          },
          "execution_count": 22
        }
      ]
    },
    {
      "cell_type": "markdown",
      "metadata": {
        "id": "RBpbx4u610Q3"
      },
      "source": [
        "**Conclusión**:\n",
        "\n",
        "Compararamos éste valor de probabilidad condicional con p(a). Como p_cond > p_a (0.44 > 0.40), entonces la hipótesis I es verdadera."
      ]
    },
    {
      "cell_type": "markdown",
      "metadata": {
        "id": "rPF6bY900nDx"
      },
      "source": [
        "### **Análisis de hipótesis 2**\n",
        "\n",
        "Los eventos A y B NO son independientes.\n",
        "\n",
        "A y B se dicen conjuntos independientes si:\n",
        "\n",
        "p(A int B) = p(A)*p(B)"
      ]
    },
    {
      "cell_type": "code",
      "metadata": {
        "colab": {
          "base_uri": "https://localhost:8080/"
        },
        "id": "gRwRUwlnUhgG",
        "outputId": "2d01ffd3-8605-4dfe-b689-0f012c1eecba"
      },
      "source": [
        "p_a_por_p_b = p_a * p_b  # p(A) * p(B)\n",
        "p_a_por_p_b"
      ],
      "execution_count": null,
      "outputs": [
        {
          "output_type": "execute_result",
          "data": {
            "text/plain": [
              "0.3004480766736156"
            ]
          },
          "metadata": {
            "tags": []
          },
          "execution_count": 23
        }
      ]
    },
    {
      "cell_type": "markdown",
      "metadata": {
        "id": "taajZm9MNky0"
      },
      "source": [
        "**Conclusión**:\n",
        "\n",
        "La probabilidad de la intersección es 0.32, pero p(A)*p(B) = 0.30, por lo tanto, al ser valores diferentes NO son eventos independientes, la hipótesis es verdadera."
      ]
    },
    {
      "cell_type": "markdown",
      "metadata": {
        "id": "sehP_RTI2aOA"
      },
      "source": [
        "### **Análisis del impacto de las variables categóricas**\n",
        "\n",
        "- 'profile_studies_level'\n",
        "- 'profile_studies_level_state'\n",
        "\n",
        "Veamos la cantidad de valores por cada una de éstas categorías de nivel de estudio y su estado."
      ]
    },
    {
      "cell_type": "code",
      "metadata": {
        "colab": {
          "base_uri": "https://localhost:8080/",
          "height": 1000
        },
        "id": "nvjdT_dd2ndI",
        "outputId": "c4f33427-e692-4c64-a3c3-8950e5f00cc8"
      },
      "source": [
        "plt.figure(figsize=(10, 6))\n",
        "sorted_studies_levels = ['Primario', 'Secundario', 'Terciario', 'Universitario',\n",
        "                         'Posgrado', 'Doctorado', 'Posdoctorado']\n",
        "seaborn.countplot(data['profile_studies_level'], color='steelblue', order=sorted_studies_levels)\n",
        "plt.xticks(rotation=90)\n",
        "\n",
        "plt.figure(figsize=(10, 6))\n",
        "seaborn.countplot(data=data, x=\"profile_studies_level\", hue=\"profile_studies_level_state\", order=sorted_studies_levels)\n",
        "plt.xticks(rotation=90)"
      ],
      "execution_count": null,
      "outputs": [
        {
          "output_type": "stream",
          "text": [
            "/usr/local/lib/python3.7/dist-packages/seaborn/_decorators.py:43: FutureWarning: Pass the following variable as a keyword arg: x. From version 0.12, the only valid positional argument will be `data`, and passing other arguments without an explicit keyword will result in an error or misinterpretation.\n",
            "  FutureWarning\n"
          ],
          "name": "stderr"
        },
        {
          "output_type": "execute_result",
          "data": {
            "text/plain": [
              "(array([0, 1, 2, 3, 4, 5, 6]), <a list of 7 Text major ticklabel objects>)"
            ]
          },
          "metadata": {
            "tags": []
          },
          "execution_count": 24
        },
        {
          "output_type": "display_data",
          "data": {
            "image/png": "[encoded data removed]",
            "text/plain": [
              "<Figure size 720x432 with 1 Axes>"
            ]
          },
          "metadata": {
            "tags": [],
            "needs_background": "light"
          }
        },
        {
          "output_type": "display_data",
          "data": {
            "image/png": "[encoded data removed]",
            "text/plain": [
              "<Figure size 720x432 with 1 Axes>"
            ]
          },
          "metadata": {
            "tags": [],
            "needs_background": "light"
          }
        }
      ]
    },
    {
      "cell_type": "code",
      "metadata": {
        "colab": {
          "base_uri": "https://localhost:8080/",
          "height": 410
        },
        "id": "jLX0cUdy3wgt",
        "outputId": "427300cf-13a5-4167-acf2-102a7fcf6e76"
      },
      "source": [
        "plt.figure(figsize=(12, 6))\n",
        "seaborn.boxplot(data=data, x='salary_monthly_NETO', y='profile_studies_level',\n",
        "                color='orangered', order=sorted_studies_levels)\n",
        "plt.ticklabel_format(style='plain', axis='x')"
      ],
      "execution_count": null,
      "outputs": [
        {
          "output_type": "display_data",
          "data": {
            "image/png": "[encoded data removed]",
            "text/plain": [
              "<Figure size 864x432 with 1 Axes>"
            ]
          },
          "metadata": {
            "tags": [],
            "needs_background": "light"
          }
        }
      ]
    },
    {
      "cell_type": "markdown",
      "metadata": {
        "id": "dvjvqNnh25EG"
      },
      "source": [
        "**Observaciones:**\n",
        "\n",
        "- Se presenta un mayor número de trabajadores con nivel universitario, donde predominan quienes han completado dicho estudio.\n",
        "- Vemos que a medida que aumenta el nivel de estudio, los salarios mínimos que aparecen en el dataset aumentan, y el valor de la mediana del salario también.\n",
        "\n",
        "**¿Cómo impacta el salario neto de acuerdo al nivel de completitud de los estudios?**"
      ]
    },
    {
      "cell_type": "code",
      "metadata": {
        "colab": {
          "base_uri": "https://localhost:8080/"
        },
        "id": "aVnxobaB3H-M",
        "outputId": "929920be-18b2-4069-de7c-88408d89c43c"
      },
      "source": [
        "cant_univers_terminado=data[(data.profile_studies_level.isin([\"Universitario\"])) & (data.profile_studies_level_state.isin([\"Completado\"])) ]\n",
        "cant_univers=data[data.profile_studies_level.isin([\"Universitario\"])]\n",
        "cant_univ_no_termin=data[ (data.profile_studies_level.isin([\"Universitario\"])) & (data.profile_studies_level_state.isin([\"Incompleto\", \"En curso\"])) ]\n",
        "print('Estudios universitarios completados: ', len(cant_univers_terminado))\n",
        "print('Total de universitarios: ', len(cant_univers))\n",
        "print('Porcentaje de estudios universitarios completados: ', len(cant_univers_terminado)*100/len(cant_univers))"
      ],
      "execution_count": null,
      "outputs": [
        {
          "output_type": "stream",
          "text": [
            "Estudios universitarios completados:  1473\n",
            "Total de universitarios:  3757\n",
            "Porcentaje de estudios universitarios completados:  39.20681394729838\n"
          ],
          "name": "stdout"
        }
      ]
    },
    {
      "cell_type": "markdown",
      "metadata": {
        "id": "9U_swYtU6BkI"
      },
      "source": [
        "Un 39% de los estudiantes universitarios ha completado sus estudios, por lo tanto existe un 69% de trabajadores cuyo nivel de estudios universitario está incompleto o en curso."
      ]
    },
    {
      "cell_type": "code",
      "metadata": {
        "colab": {
          "base_uri": "https://localhost:8080/",
          "height": 410
        },
        "id": "sHQjkLx_6Asw",
        "outputId": "52c0a411-2fed-4afe-c99b-94e304fb35ea"
      },
      "source": [
        "fig = plt.figure(figsize=(16,6))\n",
        "seaborn.boxplot(data=data, y=data.salary_monthly_NETO,x='profile_studies_level', hue=data.profile_studies_level_state, \n",
        "                color='orangered', order=sorted_studies_levels, hue_order=[\"En curso\", \"Incompleto\", \"Completado\"] )\n",
        "plt.ticklabel_format(style='plain', axis='y')"
      ],
      "execution_count": null,
      "outputs": [
        {
          "output_type": "display_data",
          "data": {
            "image/png": "[encoded data removed]",
            "text/plain": [
              "<Figure size 1152x432 with 1 Axes>"
            ]
          },
          "metadata": {
            "tags": [],
            "needs_background": "light"
          }
        }
      ]
    },
    {
      "cell_type": "markdown",
      "metadata": {
        "id": "FoaC2Mpx7NrQ"
      },
      "source": [
        "**Conclusiones**:\n",
        "\n",
        "- Como se puede ver en este boxplot separado por estado de estudios, las personas que tienen un título universitario en adelante ganan más en general que los que no. Pero la diferencia en salario neto entre tener un título universitario completo y uno incompleto es muy pequeña.\n",
        "\n",
        "- Este comportamiento se puede explicar por el tipo de rubro y la oferta y demanda del mercado laboral actual: donde se valora demostrar que un programador sabe resolver un problema, y la demanda de éstos es alta."
      ]
    },
    {
      "cell_type": "markdown",
      "metadata": {
        "id": "EO4z83ss8Wqp"
      },
      "source": [
        "## **Ejercicio 3**\n",
        "\n",
        "1. Analice las variables `'salary_monthly_BRUTO'` (salario mensual Bruto) y `'salary_monthly_NETO'` (salario Neto) en conjunto, que comentarios puede hacer al respecto?\n",
        "\n",
        "2. Genere una nueva variable `'salary_monthly_DESCUENTOS'= 'salary_monthly_BRUTO'-'salary_monthly_NETO'`, es decir que contenga los descuentos mensuales. \n",
        "  1. ¿Qué concepto matemático utiliza para entender la nueva variable?\n",
        "  2. Calcule de dos fomas diferentes la media muestral de dicha variable. \n",
        "  2. Analice la distribución de los datos, su rango de valores e interprete. ¿Qué puede estar pasando? ¿Qué propone como solución?\n",
        "\n",
        "3. Considerando toda la base:\n",
        "  1. ¿Que pregunta le interesaría responder?\n",
        "  2. ¿Que par de variables le conviene analizar en conjunto? Visualice su distribución conjunta. \n",
        "  3. ¿Qué medidas podrían resumir la información de la distribución de esas variables? visualícelas e interprete cada una.\n",
        "\n",
        "4. Resuma:\n",
        "  1. Si está queriendo analizar el comportamiento conjunto de dos variables, ¿qué gráficos y medidas conviene utilizar? \n",
        "  2. ¿Y si ambas variables son numéricas? \n",
        "  3. ¿Y si ambas son categóricas? \n",
        "  4. ¿Y si una es categórica y la otra numérica? "
      ]
    },
    {
      "cell_type": "markdown",
      "metadata": {
        "id": "GSgT5Jvd8mwO"
      },
      "source": [
        "### **Punto 1**\n",
        "\n",
        "Analice las variables `'salary_monthly_BRUTO'` (salario mensual Bruto) y `'salary_monthly_NETO'` (salario Neto) en conjunto, que comentarios puede hacer al respecto?"
      ]
    },
    {
      "cell_type": "code",
      "metadata": {
        "colab": {
          "base_uri": "https://localhost:8080/",
          "height": 744
        },
        "id": "latLvX7r7NFV",
        "outputId": "63d8748a-58f2-4153-933f-96d5c0fb0cd0"
      },
      "source": [
        "max_age = 99\n",
        "seaborn.pairplot(data=data[df.profile_age < max_age], y_vars=['salary_monthly_BRUTO'],\n",
        "                 x_vars=['salary_monthly_NETO'],\n",
        "                 aspect=1, height=10)\n",
        "plt.ticklabel_format(style='plain', axis='y')\n",
        "plt.ticklabel_format(style='plain', axis='x')"
      ],
      "execution_count": null,
      "outputs": [
        {
          "output_type": "stream",
          "text": [
            "/usr/local/lib/python3.7/dist-packages/ipykernel_launcher.py:2: UserWarning: Boolean Series key will be reindexed to match DataFrame index.\n",
            "  \n"
          ],
          "name": "stderr"
        },
        {
          "output_type": "display_data",
          "data": {
            "image/png": "[encoded data removed]",
            "text/plain": [
              "<Figure size 720x720 with 1 Axes>"
            ]
          },
          "metadata": {
            "tags": [],
            "needs_background": "light"
          }
        }
      ]
    },
    {
      "cell_type": "markdown",
      "metadata": {
        "id": "D6xTIO_h80sz"
      },
      "source": [
        "**Observaciones**:\n",
        "\n",
        "- Una mayor concentración en la línea principal.\n",
        "- Se ve principalmente una relación positiva entre las variables salario bruto y salario neto.  Además, se ve que hay una importante densidad de datos en donde el  salario bruto es mayor al salario neto, lo cual es lógico y esperado porque el neto surge de descontar las contribuciones y aportes personales al salario bruto.\n",
        "- El bruto está por encima del neto, mucha densidad (registrados formalmente), en los 500.000 para abajo.\n",
        "- La linea de abajo bruto menor a neto, (en negro).\n",
        "- Bruto mucho mayor a neto (impuesto a las ganancias?) o gente que tipeó mal."
      ]
    },
    {
      "cell_type": "markdown",
      "metadata": {
        "id": "3EaJEHJG830_"
      },
      "source": [
        "### **Punto 2**\n",
        "\n",
        "Genere una nueva variable `'salary_monthly_DESCUENTOS'= 'salary_monthly_BRUTO'-'salary_monthly_NETO'`, es decir que contenga los descuentos mensuales. \n",
        "  1. ¿Qué concepto matemático utiliza para entender la nueva variable? \n",
        "  \n",
        "  Podemos usar la resta o el cociente. Y utilizamos el concepto de media y observamos que 'la media de las restas es igual a la resta de las medias'.\n",
        "  \n",
        "  2. Calcule de dos fomas diferentes la media muestral de dicha variable. \n",
        "  \n",
        "  Podemos obtener la media de la resta o la resta de las medias.\n",
        "  \n",
        "  3. Analice la distribución de los datos, su rango de valores e interprete. ¿Qué puede estar pasando? ¿Qué propone como solución?"
      ]
    },
    {
      "cell_type": "code",
      "metadata": {
        "id": "hQURJUvo9x7W"
      },
      "source": [
        "# Nuevas columnas\n",
        "data['salary_monthly_DESCUENTOS'] = data['salary_monthly_BRUTO'] - data['salary_monthly_NETO']\n",
        "data['salary_monthly_DESCUENTOS_COCIENTE'] = data['salary_monthly_BRUTO'] / data['salary_monthly_NETO']"
      ],
      "execution_count": null,
      "outputs": []
    },
    {
      "cell_type": "code",
      "metadata": {
        "colab": {
          "base_uri": "https://localhost:8080/"
        },
        "id": "3dtfTxYC9xnm",
        "outputId": "8398a89f-0eb8-42eb-c093-7ece4aa99f77"
      },
      "source": [
        "# Podemos obtener la media de la resta o la resta de las medias.\n",
        "mean1 = data['salary_monthly_DESCUENTOS'].mean()\n",
        "print(\"Media de la nueva variable obtenida de la resta: \", mean1)\n",
        "# Podemos obtener la media de la resta o la resta de las medias.\n",
        "mean2 = data['salary_monthly_BRUTO'].mean() - data['salary_monthly_NETO'].mean()\n",
        "print(\"Media de la nueva variable obtenida de la resta: \", mean2)"
      ],
      "execution_count": null,
      "outputs": [
        {
          "output_type": "stream",
          "text": [
            "Media de la nueva variable obtenida de la resta:  26589.193131840355\n",
            "Media de la nueva variable obtenida de la resta:  26589.193131840322\n"
          ],
          "name": "stdout"
        }
      ]
    },
    {
      "cell_type": "code",
      "metadata": {
        "colab": {
          "base_uri": "https://localhost:8080/"
        },
        "id": "6KjW0SpW3HoB",
        "outputId": "8ce936db-397a-4694-b55d-ca7971e64d65"
      },
      "source": [
        "# Rangos\n",
        "print(\"Salary NETO min: {0} , max: {1}\".format(data['salary_monthly_NETO'].min(), data['salary_monthly_NETO'].max()))\n",
        "print(\"Salary BRUTO min: {0} , max: {1}\".format(data['salary_monthly_BRUTO'].min(), data['salary_monthly_BRUTO'].max()))\n",
        "print(\"Salary DESCUENTOS min: {0} , max: {1}\".format(data['salary_monthly_DESCUENTOS'].min(), data['salary_monthly_DESCUENTOS'].max()))\n",
        "print(\"Salary DESCUENTOS COCIENTE min: {0} , max: {1}\".format(data['salary_monthly_DESCUENTOS_COCIENTE'].min(), data['salary_monthly_DESCUENTOS_COCIENTE'].max()))"
      ],
      "execution_count": null,
      "outputs": [
        {
          "output_type": "stream",
          "text": [
            "Salary NETO min: 10700.0 , max: 332100.0\n",
            "Salary BRUTO min: 1.0 , max: 2180000.0\n",
            "Salary DESCUENTOS min: -260000.0 , max: 2022000.0\n",
            "Salary DESCUENTOS COCIENTE min: 8.421052631578947e-06 , max: 14.166666666666666\n"
          ],
          "name": "stdout"
        }
      ]
    },
    {
      "cell_type": "code",
      "metadata": {
        "colab": {
          "base_uri": "https://localhost:8080/"
        },
        "id": "Y4pAe3nW-9DN",
        "outputId": "fc022338-f29c-4311-839e-66974add8aa7"
      },
      "source": [
        "# Casos donde el salario bruto es menor que el neto.\n",
        "len(data[data['salary_monthly_DESCUENTOS']<0])"
      ],
      "execution_count": null,
      "outputs": [
        {
          "output_type": "execute_result",
          "data": {
            "text/plain": [
              "146"
            ]
          },
          "metadata": {
            "tags": []
          },
          "execution_count": 38
        }
      ]
    },
    {
      "cell_type": "markdown",
      "metadata": {
        "id": "ujDrNWrf-RCN"
      },
      "source": [
        "**Conclusiones**\n",
        "\n",
        "- Se puede ver en el rango de los descuentos que existen valores negativos, son los casos donde el salario neto se ingresó con un valor mayor al bruto, lo cual no es común, pueden ser casos donde se cobra una parte del sueldo en negro.\n",
        "- Se decide eliminar los casos en los que el salario bruto es menor que el salario neto (146 casos)."
      ]
    },
    {
      "cell_type": "code",
      "metadata": {
        "colab": {
          "base_uri": "https://localhost:8080/"
        },
        "id": "Y8gyHx0_-SCo",
        "outputId": "dafdc43f-9b11-47e8-c8c1-89611d05af5f"
      },
      "source": [
        "print(data.shape)\n",
        "data.drop(data[data['salary_monthly_DESCUENTOS']<0].index, inplace = True)\n",
        "data.reset_index(drop=True, inplace=True)\n",
        "print(data.shape)"
      ],
      "execution_count": null,
      "outputs": [
        {
          "output_type": "stream",
          "text": [
            "(5537, 50)\n",
            "(5391, 50)\n"
          ],
          "name": "stdout"
        }
      ]
    },
    {
      "cell_type": "markdown",
      "metadata": {
        "id": "0B525F4H_rNh"
      },
      "source": [
        "### **Punto 3**\n",
        "\n",
        "Considerando toda la base:\n",
        "  1. ¿Que pregunta le interesaría responder?\n",
        "  2. ¿Que par de variables le conviene analizar en conjunto? Visualice su distribución conjunta. \n",
        "  3. ¿Qué medidas podrían resumir la información de la distribución de esas variables? visualícelas e interprete cada una."
      ]
    },
    {
      "cell_type": "markdown",
      "metadata": {
        "id": "priEZn4l_4Pb"
      },
      "source": [
        "Analicemos la relacion entre genero y salario percibido. ¿Las mujeres ganan menos que los hombres por el mismo trabajo?\n",
        "\n",
        "Variables a analizar:\n",
        "\n",
        "- salary_monthly_NETO\n",
        "- profile_gender\n"
      ]
    },
    {
      "cell_type": "code",
      "metadata": {
        "colab": {
          "base_uri": "https://localhost:8080/"
        },
        "id": "ECUZd6EF_5AF",
        "outputId": "a8faf422-67d6-4b9e-e063-64728adcbc21"
      },
      "source": [
        "hombres=data[data.profile_gender==\"Hombre\"]\n",
        "mujeres=data[data.profile_gender==\"Mujer\"]\n",
        "media_h=hombres.salary_monthly_NETO.mean()\n",
        "media_m=mujeres.salary_monthly_NETO.mean()\n",
        "print(\"Salario neto promedio de un hombre: {:.2f} %\" .format(media_h))\n",
        "print(\"Salario neto promedio de una mujer: {:.2f} %\" .format(media_m))\n",
        "diferencia_porc= (media_h - media_m)/media_h *100\n",
        "print(\"Diferencia de salario hombres y mujeres que programan: {:.2f} %\" .format(diferencia_porc), \"menos.\")"
      ],
      "execution_count": null,
      "outputs": [
        {
          "output_type": "stream",
          "text": [
            "Salario neto promedio de un hombre: 88840.18 %\n",
            "Salario neto promedio de una mujer: 75540.91 %\n",
            "Diferencia de salario hombres y mujeres que programan: 14.97 % menos.\n"
          ],
          "name": "stdout"
        }
      ]
    },
    {
      "cell_type": "code",
      "metadata": {
        "colab": {
          "base_uri": "https://localhost:8080/",
          "height": 410
        },
        "id": "qH40ROomBhNb",
        "outputId": "eafdfa62-06d9-4ba6-9159-657f08891462"
      },
      "source": [
        "fig = plt.figure(figsize=(16,6))\n",
        "seaborn.boxplot(data=data, x=data.salary_monthly_NETO, y=data.profile_gender, order=[\"Mujer\",\"Hombre\"]  )\n",
        "plt.ticklabel_format(style='plain', axis='x')"
      ],
      "execution_count": null,
      "outputs": [
        {
          "output_type": "display_data",
          "data": {
            "image/png": "[encoded data removed]",
            "text/plain": [
              "<Figure size 1152x432 with 1 Axes>"
            ]
          },
          "metadata": {
            "tags": [],
            "needs_background": "light"
          }
        }
      ]
    },
    {
      "cell_type": "markdown",
      "metadata": {
        "id": "Q-C2mG19CEl0"
      },
      "source": [
        "**Conclusiones:**\n",
        "\n",
        "- Las mujeres programadoras que respondieron la encuesta, ganan en promedio 15% menos que sus pares hombres.\n"
      ]
    },
    {
      "cell_type": "markdown",
      "metadata": {
        "id": "uYS7IiOKCewA"
      },
      "source": [
        "### **Punto 4**\n",
        "\n",
        "Resuma:\n",
        "  1. Si está queriendo analizar el comportamiento conjunto de dos variables, ¿qué gráficos y medidas conviene utilizar?\n",
        "\n",
        "  Va a depender del tipo de variables que se quiere analizar.\n",
        "\n",
        "  2. ¿Y si ambas variables son numéricas?\n",
        "\n",
        "  Histograma, de barras, pairplot.\n",
        "\n",
        "  3. ¿Y si ambas son categóricas? \n",
        "\n",
        "  Heatmap, countplot.\n",
        "\n",
        "  4. ¿Y si una es categórica y la otra numérica?\n",
        "\n",
        "  Boxplot, catplot."
      ]
    },
    {
      "cell_type": "code",
      "metadata": {
        "id": "V5oA5vNmUY-U"
      },
      "source": [
        ""
      ],
      "execution_count": null,
      "outputs": []
    },
    {
      "cell_type": "markdown",
      "metadata": {
        "id": "328oNTB3_p0c"
      },
      "source": [
        ""
      ]
    }
  ]
}